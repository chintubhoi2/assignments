{
  "nbformat": 4,
  "nbformat_minor": 0,
  "metadata": {
    "colab": {
      "provenance": [],
      "gpuType": "T4"
    },
    "kernelspec": {
      "name": "python3",
      "display_name": "Python 3"
    },
    "language_info": {
      "name": "python"
    },
    "accelerator": "GPU"
  },
  "cells": [
    {
      "cell_type": "code",
      "execution_count": null,
      "metadata": {
        "id": "cmwLFDqclusW"
      },
      "outputs": [],
      "source": [
        "import keras\n",
        "from keras.datasets import mnist\n",
        "from keras.models import Sequential\n",
        "from keras.layers import Dense,Dropout,Flatten\n",
        "from keras.layers import Conv2D,MaxPooling2D\n",
        "import numpy as np"
      ]
    },
    {
      "cell_type": "code",
      "source": [
        "# Model / data parameters\n",
        "num_classes = 10\n",
        "input_shape = (28, 28, 1)\n",
        "\n",
        "# Load the data and split it between train and test sets\n",
        "(x_train, y_train), (x_test, y_test) = keras.datasets.mnist.load_data()\n",
        "\n",
        "# Scale images to the [0, 1] range\n",
        "x_train = x_train.astype(\"float32\") / 255\n",
        "x_test = x_test.astype(\"float32\") / 255\n",
        "# Make sure images have shape (28, 28, 1)\n",
        "x_train = np.expand_dims(x_train, -1)\n",
        "x_test = np.expand_dims(x_test, -1)\n",
        "print(\"x_train shape:\", x_train.shape)\n",
        "print(x_train.shape[0], \"train samples\")\n",
        "print(x_test.shape[0], \"test samples\")\n",
        "\n",
        "\n",
        "# convert class vectors to binary class matrices\n",
        "y_train = keras.utils.to_categorical(y_train, num_classes)\n",
        "y_test = keras.utils.to_categorical(y_test, num_classes)"
      ],
      "metadata": {
        "colab": {
          "base_uri": "https://localhost:8080/"
        },
        "id": "xu_ZzD-kliJV",
        "outputId": "dc45b988-7573-4da8-8f69-665e207daadd"
      },
      "execution_count": null,
      "outputs": [
        {
          "output_type": "stream",
          "name": "stdout",
          "text": [
            "x_train shape: (60000, 28, 28, 1)\n",
            "60000 train samples\n",
            "10000 test samples\n"
          ]
        }
      ]
    },
    {
      "cell_type": "code",
      "source": [
        "#model1 Architecture\n",
        "model1 = Sequential([\n",
        "    Conv2D(8, kernel_size=(3, 3), activation='relu', input_shape=(28, 28, 1)),\n",
        "    MaxPooling2D(pool_size=(2, 2)),\n",
        "    Conv2D(16, kernel_size=(3, 3), activation='relu'),\n",
        "    MaxPooling2D(pool_size=(2, 2)),\n",
        "    Flatten(),\n",
        "    Dense(16, activation='relu'),\n",
        "    Dropout(0.5),\n",
        "    Dense(10, activation='softmax')\n",
        "])\n",
        "\n",
        "# Print the model summary\n",
        "model1.summary()\n"
      ],
      "metadata": {
        "colab": {
          "base_uri": "https://localhost:8080/"
        },
        "id": "BLpFI1oWlnTF",
        "outputId": "b3b63eae-5191-4462-db49-d9345bbec25f"
      },
      "execution_count": null,
      "outputs": [
        {
          "output_type": "stream",
          "name": "stdout",
          "text": [
            "Model: \"sequential\"\n",
            "_________________________________________________________________\n",
            " Layer (type)                Output Shape              Param #   \n",
            "=================================================================\n",
            " conv2d (Conv2D)             (None, 26, 26, 8)         80        \n",
            "                                                                 \n",
            " max_pooling2d (MaxPooling2D  (None, 13, 13, 8)        0         \n",
            " )                                                               \n",
            "                                                                 \n",
            " conv2d_1 (Conv2D)           (None, 11, 11, 16)        1168      \n",
            "                                                                 \n",
            " max_pooling2d_1 (MaxPooling  (None, 5, 5, 16)         0         \n",
            " 2D)                                                             \n",
            "                                                                 \n",
            " flatten (Flatten)           (None, 400)               0         \n",
            "                                                                 \n",
            " dense (Dense)               (None, 16)                6416      \n",
            "                                                                 \n",
            " dropout (Dropout)           (None, 16)                0         \n",
            "                                                                 \n",
            " dense_1 (Dense)             (None, 10)                170       \n",
            "                                                                 \n",
            "=================================================================\n",
            "Total params: 7,834\n",
            "Trainable params: 7,834\n",
            "Non-trainable params: 0\n",
            "_________________________________________________________________\n"
          ]
        }
      ]
    },
    {
      "cell_type": "code",
      "source": [
        "batch_size=12\n",
        "epochs=12"
      ],
      "metadata": {
        "id": "BU89evMGmsC9"
      },
      "execution_count": null,
      "outputs": []
    },
    {
      "cell_type": "code",
      "source": [
        "#compile\n",
        "\n",
        "model1.compile(loss='categorical_crossentropy',optimizer='adam',metrics=['accuracy'])\n",
        "\n",
        "model1.fit(x_train,y_train,epochs=epochs,batch_size=batch_size,verbose=1,validation_data=(x_test,y_test))"
      ],
      "metadata": {
        "colab": {
          "base_uri": "https://localhost:8080/"
        },
        "id": "cCsvvsFbmHVQ",
        "outputId": "5ad0059d-6fe6-44d5-f786-e33be280ff09"
      },
      "execution_count": null,
      "outputs": [
        {
          "output_type": "stream",
          "name": "stdout",
          "text": [
            "Epoch 1/12\n",
            "5000/5000 [==============================] - 29s 5ms/step - loss: 0.8104 - accuracy: 0.6974 - val_loss: 0.1215 - val_accuracy: 0.9672\n",
            "Epoch 2/12\n",
            "5000/5000 [==============================] - 23s 5ms/step - loss: 0.5772 - accuracy: 0.7875 - val_loss: 0.0933 - val_accuracy: 0.9764\n",
            "Epoch 3/12\n",
            "5000/5000 [==============================] - 23s 5ms/step - loss: 0.5215 - accuracy: 0.8111 - val_loss: 0.0853 - val_accuracy: 0.9767\n",
            "Epoch 4/12\n",
            "5000/5000 [==============================] - 22s 4ms/step - loss: 0.4875 - accuracy: 0.8276 - val_loss: 0.0812 - val_accuracy: 0.9792\n",
            "Epoch 5/12\n",
            "5000/5000 [==============================] - 22s 4ms/step - loss: 0.4797 - accuracy: 0.8327 - val_loss: 0.0718 - val_accuracy: 0.9810\n",
            "Epoch 6/12\n",
            "5000/5000 [==============================] - 21s 4ms/step - loss: 0.4642 - accuracy: 0.8384 - val_loss: 0.0688 - val_accuracy: 0.9827\n",
            "Epoch 7/12\n",
            "5000/5000 [==============================] - 23s 5ms/step - loss: 0.4515 - accuracy: 0.8466 - val_loss: 0.0711 - val_accuracy: 0.9822\n",
            "Epoch 8/12\n",
            "5000/5000 [==============================] - 23s 5ms/step - loss: 0.4392 - accuracy: 0.8508 - val_loss: 0.0617 - val_accuracy: 0.9835\n",
            "Epoch 9/12\n",
            "5000/5000 [==============================] - 22s 4ms/step - loss: 0.4297 - accuracy: 0.8558 - val_loss: 0.0649 - val_accuracy: 0.9823\n",
            "Epoch 10/12\n",
            "5000/5000 [==============================] - 22s 4ms/step - loss: 0.4249 - accuracy: 0.8562 - val_loss: 0.0641 - val_accuracy: 0.9844\n",
            "Epoch 11/12\n",
            "5000/5000 [==============================] - 22s 4ms/step - loss: 0.4128 - accuracy: 0.8622 - val_loss: 0.0691 - val_accuracy: 0.9822\n",
            "Epoch 12/12\n",
            "5000/5000 [==============================] - 22s 4ms/step - loss: 0.4051 - accuracy: 0.8655 - val_loss: 0.0664 - val_accuracy: 0.9851\n"
          ]
        },
        {
          "output_type": "execute_result",
          "data": {
            "text/plain": [
              "<keras.callbacks.History at 0x7f31bf3293c0>"
            ]
          },
          "metadata": {},
          "execution_count": 8
        }
      ]
    },
    {
      "cell_type": "code",
      "source": [
        "score1=model1.evaluate(x_test,y_test)\n",
        "print(\"test_loss : \",score1[0])\n",
        "print(\"test accuracy : \",score1[1])"
      ],
      "metadata": {
        "colab": {
          "base_uri": "https://localhost:8080/"
        },
        "id": "uiEPFNo_mz2Q",
        "outputId": "0247a835-47da-40f1-985f-a790dad46566"
      },
      "execution_count": null,
      "outputs": [
        {
          "output_type": "stream",
          "name": "stdout",
          "text": [
            "313/313 [==============================] - 1s 3ms/step - loss: 0.0664 - accuracy: 0.9851\n",
            "test_loss :  0.06639843434095383\n",
            "test accuracy :  0.9850999712944031\n"
          ]
        }
      ]
    },
    {
      "cell_type": "code",
      "source": [
        "model2 = Sequential([\n",
        "    Conv2D(16, kernel_size=(3, 3), activation='relu', input_shape=(28, 28, 1)),\n",
        "    MaxPooling2D(pool_size=(2, 2)),\n",
        "    Dropout(0.5),\n",
        "    Conv2D(16, kernel_size=(3, 3), activation='relu'),\n",
        "    MaxPooling2D(pool_size=(2, 2)),\n",
        "    Dropout(0.5),\n",
        "    Flatten(),\n",
        "    Dense(10, activation='relu'),\n",
        "    Dropout(0.5),\n",
        "    Dense(10, activation='softmax')\n",
        "])\n",
        "\n",
        "# Print the model summary\n",
        "model2.summary()"
      ],
      "metadata": {
        "colab": {
          "base_uri": "https://localhost:8080/"
        },
        "id": "yxk3LD4vsPQx",
        "outputId": "3c8e73dd-7927-4c7a-ee5f-e1cba00ff2b3"
      },
      "execution_count": null,
      "outputs": [
        {
          "output_type": "stream",
          "name": "stdout",
          "text": [
            "Model: \"sequential_13\"\n",
            "_________________________________________________________________\n",
            " Layer (type)                Output Shape              Param #   \n",
            "=================================================================\n",
            " conv2d_26 (Conv2D)          (None, 26, 26, 16)        160       \n",
            "                                                                 \n",
            " max_pooling2d_26 (MaxPoolin  (None, 13, 13, 16)       0         \n",
            " g2D)                                                            \n",
            "                                                                 \n",
            " dropout_30 (Dropout)        (None, 13, 13, 16)        0         \n",
            "                                                                 \n",
            " conv2d_27 (Conv2D)          (None, 11, 11, 16)        2320      \n",
            "                                                                 \n",
            " max_pooling2d_27 (MaxPoolin  (None, 5, 5, 16)         0         \n",
            " g2D)                                                            \n",
            "                                                                 \n",
            " dropout_31 (Dropout)        (None, 5, 5, 16)          0         \n",
            "                                                                 \n",
            " flatten_13 (Flatten)        (None, 400)               0         \n",
            "                                                                 \n",
            " dense_26 (Dense)            (None, 10)                4010      \n",
            "                                                                 \n",
            " dropout_32 (Dropout)        (None, 10)                0         \n",
            "                                                                 \n",
            " dense_27 (Dense)            (None, 10)                110       \n",
            "                                                                 \n",
            "=================================================================\n",
            "Total params: 6,600\n",
            "Trainable params: 6,600\n",
            "Non-trainable params: 0\n",
            "_________________________________________________________________\n"
          ]
        }
      ]
    },
    {
      "cell_type": "code",
      "source": [
        "model2.compile(loss='categorical_crossentropy',optimizer='adam',metrics=['accuracy'])\n",
        "model2.fit(x_train,y_train,epochs=epochs,batch_size=batch_size,verbose=1,validation_data=(x_test,y_test))"
      ],
      "metadata": {
        "colab": {
          "base_uri": "https://localhost:8080/"
        },
        "id": "djBEoYWUwEVU",
        "outputId": "3a9fe6c5-1db6-4712-911d-b389533974bc"
      },
      "execution_count": null,
      "outputs": [
        {
          "output_type": "stream",
          "name": "stdout",
          "text": [
            "Epoch 1/12\n",
            "5000/5000 [==============================] - 24s 5ms/step - loss: 1.3082 - accuracy: 0.5016 - val_loss: 0.3824 - val_accuracy: 0.9328\n",
            "Epoch 2/12\n",
            "5000/5000 [==============================] - 22s 4ms/step - loss: 1.0522 - accuracy: 0.5976 - val_loss: 0.2836 - val_accuracy: 0.9462\n",
            "Epoch 3/12\n",
            "5000/5000 [==============================] - 23s 5ms/step - loss: 1.0013 - accuracy: 0.6240 - val_loss: 0.2669 - val_accuracy: 0.9511\n",
            "Epoch 4/12\n",
            "5000/5000 [==============================] - 22s 4ms/step - loss: 0.9699 - accuracy: 0.6380 - val_loss: 0.2594 - val_accuracy: 0.9520\n",
            "Epoch 5/12\n",
            "5000/5000 [==============================] - 22s 4ms/step - loss: 0.9493 - accuracy: 0.6471 - val_loss: 0.2417 - val_accuracy: 0.9580\n",
            "Epoch 6/12\n",
            "5000/5000 [==============================] - 22s 4ms/step - loss: 0.9419 - accuracy: 0.6531 - val_loss: 0.2362 - val_accuracy: 0.9577\n",
            "Epoch 7/12\n",
            "5000/5000 [==============================] - 22s 4ms/step - loss: 0.9289 - accuracy: 0.6598 - val_loss: 0.2079 - val_accuracy: 0.9594\n",
            "Epoch 8/12\n",
            "5000/5000 [==============================] - 25s 5ms/step - loss: 0.9221 - accuracy: 0.6630 - val_loss: 0.2369 - val_accuracy: 0.9587\n",
            "Epoch 9/12\n",
            "5000/5000 [==============================] - 23s 5ms/step - loss: 0.9149 - accuracy: 0.6673 - val_loss: 0.2234 - val_accuracy: 0.9595\n",
            "Epoch 10/12\n",
            "5000/5000 [==============================] - 23s 5ms/step - loss: 0.9084 - accuracy: 0.6708 - val_loss: 0.2062 - val_accuracy: 0.9601\n",
            "Epoch 11/12\n",
            "5000/5000 [==============================] - 23s 5ms/step - loss: 0.9071 - accuracy: 0.6719 - val_loss: 0.2124 - val_accuracy: 0.9612\n",
            "Epoch 12/12\n",
            "5000/5000 [==============================] - 23s 5ms/step - loss: 0.8967 - accuracy: 0.6799 - val_loss: 0.2177 - val_accuracy: 0.9614\n"
          ]
        },
        {
          "output_type": "execute_result",
          "data": {
            "text/plain": [
              "<keras.callbacks.History at 0x7f3131486230>"
            ]
          },
          "metadata": {},
          "execution_count": 37
        }
      ]
    },
    {
      "cell_type": "code",
      "source": [
        "score2=model2.evaluate(x_test,y_test)\n",
        "print(\"test_loss : \",score2[0])\n",
        "print(\"test accuracy : \",score2[1])"
      ],
      "metadata": {
        "colab": {
          "base_uri": "https://localhost:8080/"
        },
        "id": "LNHOEkYxwEYe",
        "outputId": "2dfd1d91-b561-45f1-a5c5-1a5afa1d64c6"
      },
      "execution_count": null,
      "outputs": [
        {
          "output_type": "stream",
          "name": "stdout",
          "text": [
            "313/313 [==============================] - 1s 3ms/step - loss: 0.2177 - accuracy: 0.9614\n",
            "test_loss :  0.2176584154367447\n",
            "test accuracy :  0.9613999724388123\n"
          ]
        }
      ]
    },
    {
      "cell_type": "code",
      "source": [
        "model3 = Sequential([\n",
        "    Conv2D(32, kernel_size=(3, 3), activation='relu', input_shape=(28, 28, 1)),\n",
        "    MaxPooling2D(pool_size=(2, 2)),\n",
        "    Dropout(0.5),\n",
        "    Conv2D(16, kernel_size=(3, 3), activation='relu'),\n",
        "    MaxPooling2D(pool_size=(2, 2)),\n",
        "    Dropout(0.5),\n",
        "    Flatten(),\n",
        "    Dense(10, activation='relu'),\n",
        "    Dropout(0.5),\n",
        "    Dense(10, activation='softmax')\n",
        "])\n",
        "\n",
        "# Print the model summary\n",
        "model3.summary()"
      ],
      "metadata": {
        "colab": {
          "base_uri": "https://localhost:8080/"
        },
        "id": "1Pv_vA_twEdY",
        "outputId": "63d6042d-05be-4e21-d20f-73b1fd7cd4ee"
      },
      "execution_count": null,
      "outputs": [
        {
          "output_type": "stream",
          "name": "stdout",
          "text": [
            "Model: \"sequential_12\"\n",
            "_________________________________________________________________\n",
            " Layer (type)                Output Shape              Param #   \n",
            "=================================================================\n",
            " conv2d_24 (Conv2D)          (None, 26, 26, 32)        320       \n",
            "                                                                 \n",
            " max_pooling2d_24 (MaxPoolin  (None, 13, 13, 32)       0         \n",
            " g2D)                                                            \n",
            "                                                                 \n",
            " dropout_27 (Dropout)        (None, 13, 13, 32)        0         \n",
            "                                                                 \n",
            " conv2d_25 (Conv2D)          (None, 11, 11, 16)        4624      \n",
            "                                                                 \n",
            " max_pooling2d_25 (MaxPoolin  (None, 5, 5, 16)         0         \n",
            " g2D)                                                            \n",
            "                                                                 \n",
            " dropout_28 (Dropout)        (None, 5, 5, 16)          0         \n",
            "                                                                 \n",
            " flatten_12 (Flatten)        (None, 400)               0         \n",
            "                                                                 \n",
            " dense_24 (Dense)            (None, 10)                4010      \n",
            "                                                                 \n",
            " dropout_29 (Dropout)        (None, 10)                0         \n",
            "                                                                 \n",
            " dense_25 (Dense)            (None, 10)                110       \n",
            "                                                                 \n",
            "=================================================================\n",
            "Total params: 9,064\n",
            "Trainable params: 9,064\n",
            "Non-trainable params: 0\n",
            "_________________________________________________________________\n"
          ]
        }
      ]
    },
    {
      "cell_type": "code",
      "source": [
        "model3.compile(loss='categorical_crossentropy',optimizer='adam',metrics=['accuracy'])\n",
        "model3.fit(x_train,y_train,epochs=epochs,batch_size=batch_size,verbose=1,validation_data=(x_test,y_test))"
      ],
      "metadata": {
        "colab": {
          "base_uri": "https://localhost:8080/"
        },
        "id": "esVqpcoR0ZVL",
        "outputId": "7f36e1b0-5f8c-48ce-961a-ed5f8e2d79dc"
      },
      "execution_count": null,
      "outputs": [
        {
          "output_type": "stream",
          "name": "stdout",
          "text": [
            "Epoch 1/12\n",
            "5000/5000 [==============================] - 25s 5ms/step - loss: 1.2777 - accuracy: 0.5258 - val_loss: 0.3668 - val_accuracy: 0.9531\n",
            "Epoch 2/12\n",
            "5000/5000 [==============================] - 25s 5ms/step - loss: 1.0175 - accuracy: 0.6207 - val_loss: 0.2745 - val_accuracy: 0.9573\n",
            "Epoch 3/12\n",
            "5000/5000 [==============================] - 23s 5ms/step - loss: 0.9517 - accuracy: 0.6490 - val_loss: 0.2159 - val_accuracy: 0.9634\n",
            "Epoch 4/12\n",
            "5000/5000 [==============================] - 23s 5ms/step - loss: 0.9305 - accuracy: 0.6595 - val_loss: 0.2216 - val_accuracy: 0.9619\n",
            "Epoch 5/12\n",
            "5000/5000 [==============================] - 22s 4ms/step - loss: 0.9170 - accuracy: 0.6662 - val_loss: 0.2015 - val_accuracy: 0.9663\n",
            "Epoch 6/12\n",
            "5000/5000 [==============================] - 23s 5ms/step - loss: 0.9025 - accuracy: 0.6748 - val_loss: 0.2122 - val_accuracy: 0.9665\n",
            "Epoch 7/12\n",
            "5000/5000 [==============================] - 23s 5ms/step - loss: 0.8868 - accuracy: 0.6791 - val_loss: 0.1942 - val_accuracy: 0.9702\n",
            "Epoch 8/12\n",
            "5000/5000 [==============================] - 23s 5ms/step - loss: 0.8820 - accuracy: 0.6836 - val_loss: 0.1822 - val_accuracy: 0.9696\n",
            "Epoch 9/12\n",
            "5000/5000 [==============================] - 22s 4ms/step - loss: 0.8756 - accuracy: 0.6845 - val_loss: 0.1850 - val_accuracy: 0.9680\n",
            "Epoch 10/12\n",
            "5000/5000 [==============================] - 23s 5ms/step - loss: 0.8828 - accuracy: 0.6809 - val_loss: 0.1864 - val_accuracy: 0.9691\n",
            "Epoch 11/12\n",
            "5000/5000 [==============================] - 24s 5ms/step - loss: 0.8735 - accuracy: 0.6860 - val_loss: 0.2013 - val_accuracy: 0.9697\n",
            "Epoch 12/12\n",
            "5000/5000 [==============================] - 24s 5ms/step - loss: 0.8702 - accuracy: 0.6894 - val_loss: 0.1784 - val_accuracy: 0.9714\n"
          ]
        },
        {
          "output_type": "execute_result",
          "data": {
            "text/plain": [
              "<keras.callbacks.History at 0x7f31305a4d30>"
            ]
          },
          "metadata": {},
          "execution_count": 28
        }
      ]
    },
    {
      "cell_type": "code",
      "source": [
        "score3=model3.evaluate(x_test,y_test)\n",
        "print(\"test_loss : \",score3[0])\n",
        "print(\"test accuracy : \",score3[1])"
      ],
      "metadata": {
        "colab": {
          "base_uri": "https://localhost:8080/"
        },
        "id": "QwaeNwCOwEjg",
        "outputId": "3bb528fd-db0b-42d3-b3b9-fabdb83e6351"
      },
      "execution_count": null,
      "outputs": [
        {
          "output_type": "stream",
          "name": "stdout",
          "text": [
            "313/313 [==============================] - 1s 3ms/step - loss: 0.1784 - accuracy: 0.9714\n",
            "test_loss :  0.17836999893188477\n",
            "test accuracy :  0.9714000225067139\n"
          ]
        }
      ]
    },
    {
      "cell_type": "code",
      "source": [
        "from prettytable import PrettyTable\n",
        "\n",
        "pt=PrettyTable()\n",
        "pt.field_names=[\"Model\",\"no of params\",\"Val_loss\",\"Val_Acc\"]\n",
        "pt.add_row([\"Model1\",\"7834\",\"0.066\",\"98.50%\"])\n",
        "pt.add_row([\"Model2\",\"6600\",\"0.217\",\"96.13\"])\n",
        "pt.add_row([\"Model3\",\"9064\",\"0.178\",\"97.14%\"])\n",
        "print(pt)"
      ],
      "metadata": {
        "colab": {
          "base_uri": "https://localhost:8080/"
        },
        "id": "Dl6ysgK-5uNj",
        "outputId": "3b1d814f-6f5b-421c-c84a-a6501cdd6bee"
      },
      "execution_count": null,
      "outputs": [
        {
          "output_type": "stream",
          "name": "stdout",
          "text": [
            "+--------+--------------+----------+---------+\n",
            "| Model  | no of params | Val_loss | Val_Acc |\n",
            "+--------+--------------+----------+---------+\n",
            "| Model1 |     7834     |  0.066   |  98.50% |\n",
            "| Model2 |     6600     |  0.217   |  96.13  |\n",
            "| Model3 |     9064     |  0.178   |  97.14% |\n",
            "+--------+--------------+----------+---------+\n"
          ]
        }
      ]
    },
    {
      "cell_type": "markdown",
      "source": [],
      "metadata": {
        "id": "toZglXzGr-jl"
      }
    }
  ]
}