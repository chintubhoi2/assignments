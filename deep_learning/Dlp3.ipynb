{
  "nbformat": 4,
  "nbformat_minor": 0,
  "metadata": {
    "colab": {
      "provenance": [],
      "gpuType": "T4"
    },
    "kernelspec": {
      "name": "python3",
      "display_name": "Python 3"
    },
    "language_info": {
      "name": "python"
    },
    "accelerator": "GPU"
  },
  "cells": [
    {
      "cell_type": "code",
      "execution_count": null,
      "metadata": {
        "id": "lzl9LXff9Hgh"
      },
      "outputs": [],
      "source": [
        "import keras\n",
        "from keras.datasets import mnist\n",
        "from keras.models import Sequential\n",
        "from keras.layers import Dense,Dropout,Flatten\n",
        "from keras.layers import Conv2D,MaxPooling2D\n",
        "import numpy as np"
      ]
    },
    {
      "cell_type": "code",
      "source": [
        "# Model / data parameters\n",
        "num_classes = 10\n",
        "input_shape = (28, 28, 1)\n",
        "\n",
        "# Load the data and split it between train and test sets\n",
        "(x_train, y_train), (x_test, y_test) = keras.datasets.mnist.load_data()\n",
        "\n",
        "# Scale images to the [0, 1] range\n",
        "x_train = x_train.astype(\"float32\") / 255\n",
        "x_test = x_test.astype(\"float32\") / 255\n",
        "# Make sure images have shape (28, 28, 1)\n",
        "x_train = np.expand_dims(x_train, -1)\n",
        "x_test = np.expand_dims(x_test, -1)\n",
        "print(\"x_train shape:\", x_train.shape)\n",
        "print(x_train.shape[0], \"train samples\")\n",
        "print(x_test.shape[0], \"test samples\")\n",
        "\n",
        "\n",
        "# convert class vectors to binary class matrices\n",
        "y_train = keras.utils.to_categorical(y_train, num_classes)\n",
        "y_test = keras.utils.to_categorical(y_test, num_classes)"
      ],
      "metadata": {
        "colab": {
          "base_uri": "https://localhost:8080/"
        },
        "id": "U6z2EMFL_CTM",
        "outputId": "02749ac6-99e4-4327-bd24-22204194974c"
      },
      "execution_count": null,
      "outputs": [
        {
          "output_type": "stream",
          "name": "stdout",
          "text": [
            "Downloading data from https://storage.googleapis.com/tensorflow/tf-keras-datasets/mnist.npz\n",
            "11490434/11490434 [==============================] - 1s 0us/step\n",
            "x_train shape: (60000, 28, 28, 1)\n",
            "60000 train samples\n",
            "10000 test samples\n"
          ]
        }
      ]
    },
    {
      "cell_type": "code",
      "source": [
        "#model1 Architecture\n",
        "model1 = Sequential([\n",
        "    Conv2D(16, kernel_size=(3, 3), activation='relu', input_shape=(28, 28, 1)),\n",
        "    MaxPooling2D(pool_size=(2, 2)),\n",
        "    Conv2D(16, kernel_size=(3, 3), activation='relu'),\n",
        "    MaxPooling2D(pool_size=(2, 2)),\n",
        "    Conv2D(32, kernel_size=(3, 3), activation='relu'),\n",
        "    MaxPooling2D(pool_size=(2, 2)),\n",
        "    Flatten(),\n",
        "    Dense(10, activation='softmax')\n",
        "])\n",
        "\n",
        "# Print the model summary\n",
        "model1.summary()"
      ],
      "metadata": {
        "colab": {
          "base_uri": "https://localhost:8080/"
        },
        "id": "euN0KmZA_xOs",
        "outputId": "f56b96ce-57aa-4413-a8a0-dc4069ea51cd"
      },
      "execution_count": null,
      "outputs": [
        {
          "output_type": "stream",
          "name": "stdout",
          "text": [
            "Model: \"sequential_32\"\n",
            "_________________________________________________________________\n",
            " Layer (type)                Output Shape              Param #   \n",
            "=================================================================\n",
            " conv2d_95 (Conv2D)          (None, 26, 26, 16)        160       \n",
            "                                                                 \n",
            " max_pooling2d_95 (MaxPoolin  (None, 13, 13, 16)       0         \n",
            " g2D)                                                            \n",
            "                                                                 \n",
            " conv2d_96 (Conv2D)          (None, 11, 11, 16)        2320      \n",
            "                                                                 \n",
            " max_pooling2d_96 (MaxPoolin  (None, 5, 5, 16)         0         \n",
            " g2D)                                                            \n",
            "                                                                 \n",
            " conv2d_97 (Conv2D)          (None, 3, 3, 32)          4640      \n",
            "                                                                 \n",
            " max_pooling2d_97 (MaxPoolin  (None, 1, 1, 32)         0         \n",
            " g2D)                                                            \n",
            "                                                                 \n",
            " flatten_32 (Flatten)        (None, 32)                0         \n",
            "                                                                 \n",
            " dense_32 (Dense)            (None, 10)                330       \n",
            "                                                                 \n",
            "=================================================================\n",
            "Total params: 7,450\n",
            "Trainable params: 7,450\n",
            "Non-trainable params: 0\n",
            "_________________________________________________________________\n"
          ]
        }
      ]
    },
    {
      "cell_type": "code",
      "source": [
        "batch_size=12\n",
        "epochs=20"
      ],
      "metadata": {
        "id": "s033G43FkgUa"
      },
      "execution_count": null,
      "outputs": []
    },
    {
      "cell_type": "code",
      "source": [
        "#compile\n",
        "\n",
        "model1.compile(loss='categorical_crossentropy',optimizer='adam',metrics=['accuracy'])\n",
        "\n",
        "model1.fit(x_train,y_train,epochs=epochs,batch_size=batch_size,verbose=1,validation_data=(x_test,y_test))"
      ],
      "metadata": {
        "colab": {
          "base_uri": "https://localhost:8080/"
        },
        "id": "0kMLBXEXjAZG",
        "outputId": "712b96e4-91d3-46fb-ce79-f275d5fa6f96"
      },
      "execution_count": null,
      "outputs": [
        {
          "output_type": "stream",
          "name": "stdout",
          "text": [
            "Epoch 1/20\n",
            "5000/5000 [==============================] - 24s 5ms/step - loss: 0.2451 - accuracy: 0.9238 - val_loss: 0.0915 - val_accuracy: 0.9726\n",
            "Epoch 2/20\n",
            "5000/5000 [==============================] - 23s 5ms/step - loss: 0.0989 - accuracy: 0.9696 - val_loss: 0.0813 - val_accuracy: 0.9747\n",
            "Epoch 3/20\n",
            "5000/5000 [==============================] - 22s 4ms/step - loss: 0.0751 - accuracy: 0.9761 - val_loss: 0.0791 - val_accuracy: 0.9748\n",
            "Epoch 4/20\n",
            "5000/5000 [==============================] - 22s 4ms/step - loss: 0.0622 - accuracy: 0.9807 - val_loss: 0.0615 - val_accuracy: 0.9798\n",
            "Epoch 5/20\n",
            "5000/5000 [==============================] - 22s 4ms/step - loss: 0.0535 - accuracy: 0.9837 - val_loss: 0.0558 - val_accuracy: 0.9831\n",
            "Epoch 6/20\n",
            "5000/5000 [==============================] - 23s 5ms/step - loss: 0.0477 - accuracy: 0.9848 - val_loss: 0.0611 - val_accuracy: 0.9811\n",
            "Epoch 7/20\n",
            "5000/5000 [==============================] - 23s 5ms/step - loss: 0.0415 - accuracy: 0.9870 - val_loss: 0.0552 - val_accuracy: 0.9836\n",
            "Epoch 8/20\n",
            "5000/5000 [==============================] - 22s 4ms/step - loss: 0.0378 - accuracy: 0.9877 - val_loss: 0.0687 - val_accuracy: 0.9790\n",
            "Epoch 9/20\n",
            "5000/5000 [==============================] - 22s 4ms/step - loss: 0.0352 - accuracy: 0.9888 - val_loss: 0.0621 - val_accuracy: 0.9816\n",
            "Epoch 10/20\n",
            "5000/5000 [==============================] - 23s 5ms/step - loss: 0.0322 - accuracy: 0.9897 - val_loss: 0.0531 - val_accuracy: 0.9850\n",
            "Epoch 11/20\n",
            "5000/5000 [==============================] - 23s 5ms/step - loss: 0.0303 - accuracy: 0.9904 - val_loss: 0.0543 - val_accuracy: 0.9840\n",
            "Epoch 12/20\n",
            "5000/5000 [==============================] - 23s 5ms/step - loss: 0.0267 - accuracy: 0.9911 - val_loss: 0.0979 - val_accuracy: 0.9751\n",
            "Epoch 13/20\n",
            "5000/5000 [==============================] - 22s 4ms/step - loss: 0.0260 - accuracy: 0.9912 - val_loss: 0.0601 - val_accuracy: 0.9838\n",
            "Epoch 14/20\n",
            "5000/5000 [==============================] - 21s 4ms/step - loss: 0.0245 - accuracy: 0.9918 - val_loss: 0.0601 - val_accuracy: 0.9842\n",
            "Epoch 15/20\n",
            "5000/5000 [==============================] - 23s 5ms/step - loss: 0.0225 - accuracy: 0.9925 - val_loss: 0.0581 - val_accuracy: 0.9851\n",
            "Epoch 16/20\n",
            "5000/5000 [==============================] - 23s 5ms/step - loss: 0.0219 - accuracy: 0.9928 - val_loss: 0.0670 - val_accuracy: 0.9827\n",
            "Epoch 17/20\n",
            "5000/5000 [==============================] - 23s 5ms/step - loss: 0.0204 - accuracy: 0.9930 - val_loss: 0.0617 - val_accuracy: 0.9848\n",
            "Epoch 18/20\n",
            "5000/5000 [==============================] - 22s 4ms/step - loss: 0.0191 - accuracy: 0.9934 - val_loss: 0.0675 - val_accuracy: 0.9848\n",
            "Epoch 19/20\n",
            "5000/5000 [==============================] - 22s 4ms/step - loss: 0.0181 - accuracy: 0.9937 - val_loss: 0.0688 - val_accuracy: 0.9843\n",
            "Epoch 20/20\n",
            "5000/5000 [==============================] - 22s 4ms/step - loss: 0.0188 - accuracy: 0.9937 - val_loss: 0.0755 - val_accuracy: 0.9830\n"
          ]
        },
        {
          "output_type": "execute_result",
          "data": {
            "text/plain": [
              "<keras.callbacks.History at 0x7fa6da0d5810>"
            ]
          },
          "metadata": {},
          "execution_count": 44
        }
      ]
    },
    {
      "cell_type": "code",
      "source": [
        "model2 = Sequential([\n",
        "    Conv2D(32, kernel_size=(3, 3), activation='relu', input_shape=(28, 28, 1)),\n",
        "    MaxPooling2D(pool_size=(2, 2)),\n",
        "    #Conv2D(16, kernel_size=(3, 3), activation='relu'),\n",
        "    #MaxPooling2D(pool_size=(2, 2)),\n",
        "    Conv2D(16, kernel_size=(3, 3), activation='relu'),\n",
        "    MaxPooling2D(pool_size=(2, 2)),\n",
        "    Flatten(),\n",
        "    Dense(10, activation='softmax')\n",
        "])\n",
        "\n",
        "# Print the model summary\n",
        "model2.summary()"
      ],
      "metadata": {
        "colab": {
          "base_uri": "https://localhost:8080/"
        },
        "id": "ErUvj9Jwkbpz",
        "outputId": "5faacd75-2e92-4239-cf16-6474e7e12ec2"
      },
      "execution_count": null,
      "outputs": [
        {
          "output_type": "stream",
          "name": "stdout",
          "text": [
            "Model: \"sequential_43\"\n",
            "_________________________________________________________________\n",
            " Layer (type)                Output Shape              Param #   \n",
            "=================================================================\n",
            " conv2d_123 (Conv2D)         (None, 26, 26, 32)        320       \n",
            "                                                                 \n",
            " max_pooling2d_123 (MaxPooli  (None, 13, 13, 32)       0         \n",
            " ng2D)                                                           \n",
            "                                                                 \n",
            " conv2d_124 (Conv2D)         (None, 11, 11, 16)        4624      \n",
            "                                                                 \n",
            " max_pooling2d_124 (MaxPooli  (None, 5, 5, 16)         0         \n",
            " ng2D)                                                           \n",
            "                                                                 \n",
            " flatten_43 (Flatten)        (None, 400)               0         \n",
            "                                                                 \n",
            " dense_43 (Dense)            (None, 10)                4010      \n",
            "                                                                 \n",
            "=================================================================\n",
            "Total params: 8,954\n",
            "Trainable params: 8,954\n",
            "Non-trainable params: 0\n",
            "_________________________________________________________________\n"
          ]
        }
      ]
    },
    {
      "cell_type": "code",
      "source": [
        "batch_size=16\n",
        "epochs=20"
      ],
      "metadata": {
        "id": "oI7u2B-kqJ2L"
      },
      "execution_count": null,
      "outputs": []
    },
    {
      "cell_type": "code",
      "source": [
        "from keras.optimizers import SGD\n",
        "opt = SGD(lr=0.01)"
      ],
      "metadata": {
        "id": "Vxzr5Vm3qcfd"
      },
      "execution_count": null,
      "outputs": []
    },
    {
      "cell_type": "code",
      "source": [
        "model2.compile(loss='categorical_crossentropy',optimizer=opt,metrics=['accuracy'])\n",
        "\n",
        "model2.fit(x_train,y_train,epochs=epochs,batch_size=batch_size,verbose=1,validation_data=(x_test,y_test))"
      ],
      "metadata": {
        "colab": {
          "base_uri": "https://localhost:8080/"
        },
        "id": "XybDWMXtqIjr",
        "outputId": "d39b4166-5d6b-4bf5-a61d-39b18f8a3ea2"
      },
      "execution_count": null,
      "outputs": [
        {
          "output_type": "stream",
          "name": "stdout",
          "text": [
            "Epoch 1/20\n",
            "3750/3750 [==============================] - 13s 3ms/step - loss: 0.4209 - accuracy: 0.8726 - val_loss: 0.1308 - val_accuracy: 0.9608\n",
            "Epoch 2/20\n",
            "3750/3750 [==============================] - 13s 3ms/step - loss: 0.1336 - accuracy: 0.9598 - val_loss: 0.0969 - val_accuracy: 0.9706\n",
            "Epoch 3/20\n",
            "3750/3750 [==============================] - 14s 4ms/step - loss: 0.1017 - accuracy: 0.9688 - val_loss: 0.0835 - val_accuracy: 0.9738\n",
            "Epoch 4/20\n",
            "3750/3750 [==============================] - 13s 3ms/step - loss: 0.0869 - accuracy: 0.9731 - val_loss: 0.0707 - val_accuracy: 0.9762\n",
            "Epoch 5/20\n",
            "3750/3750 [==============================] - 13s 3ms/step - loss: 0.0769 - accuracy: 0.9767 - val_loss: 0.0626 - val_accuracy: 0.9806\n",
            "Epoch 6/20\n",
            "3750/3750 [==============================] - 12s 3ms/step - loss: 0.0705 - accuracy: 0.9786 - val_loss: 0.0643 - val_accuracy: 0.9782\n",
            "Epoch 7/20\n",
            "3750/3750 [==============================] - 12s 3ms/step - loss: 0.0649 - accuracy: 0.9802 - val_loss: 0.0606 - val_accuracy: 0.9806\n",
            "Epoch 8/20\n",
            "3750/3750 [==============================] - 13s 3ms/step - loss: 0.0611 - accuracy: 0.9812 - val_loss: 0.0553 - val_accuracy: 0.9828\n",
            "Epoch 9/20\n",
            "3750/3750 [==============================] - 13s 3ms/step - loss: 0.0581 - accuracy: 0.9826 - val_loss: 0.0528 - val_accuracy: 0.9822\n",
            "Epoch 10/20\n",
            "3750/3750 [==============================] - 12s 3ms/step - loss: 0.0546 - accuracy: 0.9832 - val_loss: 0.0556 - val_accuracy: 0.9811\n",
            "Epoch 11/20\n",
            "3750/3750 [==============================] - 12s 3ms/step - loss: 0.0525 - accuracy: 0.9840 - val_loss: 0.0501 - val_accuracy: 0.9831\n",
            "Epoch 12/20\n",
            "3750/3750 [==============================] - 12s 3ms/step - loss: 0.0500 - accuracy: 0.9844 - val_loss: 0.0472 - val_accuracy: 0.9840\n",
            "Epoch 13/20\n",
            "3750/3750 [==============================] - 12s 3ms/step - loss: 0.0478 - accuracy: 0.9853 - val_loss: 0.0463 - val_accuracy: 0.9849\n",
            "Epoch 14/20\n",
            "3750/3750 [==============================] - 14s 4ms/step - loss: 0.0464 - accuracy: 0.9858 - val_loss: 0.0498 - val_accuracy: 0.9836\n",
            "Epoch 15/20\n",
            "3750/3750 [==============================] - 13s 3ms/step - loss: 0.0449 - accuracy: 0.9862 - val_loss: 0.0446 - val_accuracy: 0.9851\n",
            "Epoch 16/20\n",
            "3750/3750 [==============================] - 13s 3ms/step - loss: 0.0433 - accuracy: 0.9872 - val_loss: 0.0444 - val_accuracy: 0.9855\n",
            "Epoch 17/20\n",
            "3750/3750 [==============================] - 13s 3ms/step - loss: 0.0421 - accuracy: 0.9870 - val_loss: 0.0426 - val_accuracy: 0.9859\n",
            "Epoch 18/20\n",
            "3750/3750 [==============================] - 13s 3ms/step - loss: 0.0404 - accuracy: 0.9875 - val_loss: 0.0444 - val_accuracy: 0.9850\n",
            "Epoch 19/20\n",
            "3750/3750 [==============================] - 13s 3ms/step - loss: 0.0388 - accuracy: 0.9877 - val_loss: 0.0446 - val_accuracy: 0.9853\n",
            "Epoch 20/20\n",
            "3750/3750 [==============================] - 12s 3ms/step - loss: 0.0376 - accuracy: 0.9884 - val_loss: 0.0422 - val_accuracy: 0.9864\n"
          ]
        },
        {
          "output_type": "execute_result",
          "data": {
            "text/plain": [
              "<keras.callbacks.History at 0x7fa6c074b610>"
            ]
          },
          "metadata": {},
          "execution_count": 87
        }
      ]
    },
    {
      "cell_type": "code",
      "source": [],
      "metadata": {
        "id": "ZbdjCKjMqlRm"
      },
      "execution_count": null,
      "outputs": []
    }
  ]
}