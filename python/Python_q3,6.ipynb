{
  "nbformat": 4,
  "nbformat_minor": 0,
  "metadata": {
    "colab": {
      "provenance": []
    },
    "kernelspec": {
      "name": "python3",
      "display_name": "Python 3"
    },
    "language_info": {
      "name": "python"
    }
  },
  "cells": [
    {
      "cell_type": "code",
      "source": [
        "import requests\n",
        "r = requests.get(\"https://raw.githubusercontent.com/Biuni/PokemonGO-Pokedex/master/pokedex.json\")\n",
        "data = r.json()"
      ],
      "metadata": {
        "id": "BrCyVOAlb83O"
      },
      "execution_count": null,
      "outputs": []
    },
    {
      "cell_type": "code",
      "source": [
        "import pandas as pd\n",
        "import numpy as np\n",
        "df = pd.DataFrame(data['pokemon'])\n",
        "df.head()"
      ],
      "metadata": {
        "colab": {
          "base_uri": "https://localhost:8080/",
          "height": 478
        },
        "id": "OL3Cb86ThHtV",
        "outputId": "bad3bdb4-92a1-4a76-e787-63c24502d982"
      },
      "execution_count": null,
      "outputs": [
        {
          "output_type": "execute_result",
          "data": {
            "text/plain": [
              "   id  num        name                                               img  \\\n",
              "0   1  001   Bulbasaur  http://www.serebii.net/pokemongo/pokemon/001.png   \n",
              "1   2  002     Ivysaur  http://www.serebii.net/pokemongo/pokemon/002.png   \n",
              "2   3  003    Venusaur  http://www.serebii.net/pokemongo/pokemon/003.png   \n",
              "3   4  004  Charmander  http://www.serebii.net/pokemongo/pokemon/004.png   \n",
              "4   5  005  Charmeleon  http://www.serebii.net/pokemongo/pokemon/005.png   \n",
              "\n",
              "              type  height    weight             candy  candy_count  \\\n",
              "0  [Grass, Poison]  0.71 m    6.9 kg   Bulbasaur Candy         25.0   \n",
              "1  [Grass, Poison]  0.99 m   13.0 kg   Bulbasaur Candy        100.0   \n",
              "2  [Grass, Poison]  2.01 m  100.0 kg   Bulbasaur Candy          NaN   \n",
              "3           [Fire]  0.61 m    8.5 kg  Charmander Candy         25.0   \n",
              "4           [Fire]  1.09 m   19.0 kg  Charmander Candy        100.0   \n",
              "\n",
              "           egg  spawn_chance  avg_spawns spawn_time multipliers  \\\n",
              "0         2 km         0.690        69.0      20:00      [1.58]   \n",
              "1  Not in Eggs         0.042         4.2      07:00  [1.2, 1.6]   \n",
              "2  Not in Eggs         0.017         1.7      11:30        None   \n",
              "3         2 km         0.253        25.3      08:45      [1.65]   \n",
              "4  Not in Eggs         0.012         1.2      19:00      [1.79]   \n",
              "\n",
              "                     weaknesses  \\\n",
              "0  [Fire, Ice, Flying, Psychic]   \n",
              "1  [Fire, Ice, Flying, Psychic]   \n",
              "2  [Fire, Ice, Flying, Psychic]   \n",
              "3         [Water, Ground, Rock]   \n",
              "4         [Water, Ground, Rock]   \n",
              "\n",
              "                                      next_evolution  \\\n",
              "0  [{'num': '002', 'name': 'Ivysaur'}, {'num': '0...   \n",
              "1               [{'num': '003', 'name': 'Venusaur'}]   \n",
              "2                                                NaN   \n",
              "3  [{'num': '005', 'name': 'Charmeleon'}, {'num':...   \n",
              "4              [{'num': '006', 'name': 'Charizard'}]   \n",
              "\n",
              "                                      prev_evolution  \n",
              "0                                                NaN  \n",
              "1              [{'num': '001', 'name': 'Bulbasaur'}]  \n",
              "2  [{'num': '001', 'name': 'Bulbasaur'}, {'num': ...  \n",
              "3                                                NaN  \n",
              "4             [{'num': '004', 'name': 'Charmander'}]  "
            ],
            "text/html": [
              "\n",
              "  <div id=\"df-e5aaba5a-ad3d-49ff-a4c6-13002d938e6e\">\n",
              "    <div class=\"colab-df-container\">\n",
              "      <div>\n",
              "<style scoped>\n",
              "    .dataframe tbody tr th:only-of-type {\n",
              "        vertical-align: middle;\n",
              "    }\n",
              "\n",
              "    .dataframe tbody tr th {\n",
              "        vertical-align: top;\n",
              "    }\n",
              "\n",
              "    .dataframe thead th {\n",
              "        text-align: right;\n",
              "    }\n",
              "</style>\n",
              "<table border=\"1\" class=\"dataframe\">\n",
              "  <thead>\n",
              "    <tr style=\"text-align: right;\">\n",
              "      <th></th>\n",
              "      <th>id</th>\n",
              "      <th>num</th>\n",
              "      <th>name</th>\n",
              "      <th>img</th>\n",
              "      <th>type</th>\n",
              "      <th>height</th>\n",
              "      <th>weight</th>\n",
              "      <th>candy</th>\n",
              "      <th>candy_count</th>\n",
              "      <th>egg</th>\n",
              "      <th>spawn_chance</th>\n",
              "      <th>avg_spawns</th>\n",
              "      <th>spawn_time</th>\n",
              "      <th>multipliers</th>\n",
              "      <th>weaknesses</th>\n",
              "      <th>next_evolution</th>\n",
              "      <th>prev_evolution</th>\n",
              "    </tr>\n",
              "  </thead>\n",
              "  <tbody>\n",
              "    <tr>\n",
              "      <th>0</th>\n",
              "      <td>1</td>\n",
              "      <td>001</td>\n",
              "      <td>Bulbasaur</td>\n",
              "      <td>http://www.serebii.net/pokemongo/pokemon/001.png</td>\n",
              "      <td>[Grass, Poison]</td>\n",
              "      <td>0.71 m</td>\n",
              "      <td>6.9 kg</td>\n",
              "      <td>Bulbasaur Candy</td>\n",
              "      <td>25.0</td>\n",
              "      <td>2 km</td>\n",
              "      <td>0.690</td>\n",
              "      <td>69.0</td>\n",
              "      <td>20:00</td>\n",
              "      <td>[1.58]</td>\n",
              "      <td>[Fire, Ice, Flying, Psychic]</td>\n",
              "      <td>[{'num': '002', 'name': 'Ivysaur'}, {'num': '0...</td>\n",
              "      <td>NaN</td>\n",
              "    </tr>\n",
              "    <tr>\n",
              "      <th>1</th>\n",
              "      <td>2</td>\n",
              "      <td>002</td>\n",
              "      <td>Ivysaur</td>\n",
              "      <td>http://www.serebii.net/pokemongo/pokemon/002.png</td>\n",
              "      <td>[Grass, Poison]</td>\n",
              "      <td>0.99 m</td>\n",
              "      <td>13.0 kg</td>\n",
              "      <td>Bulbasaur Candy</td>\n",
              "      <td>100.0</td>\n",
              "      <td>Not in Eggs</td>\n",
              "      <td>0.042</td>\n",
              "      <td>4.2</td>\n",
              "      <td>07:00</td>\n",
              "      <td>[1.2, 1.6]</td>\n",
              "      <td>[Fire, Ice, Flying, Psychic]</td>\n",
              "      <td>[{'num': '003', 'name': 'Venusaur'}]</td>\n",
              "      <td>[{'num': '001', 'name': 'Bulbasaur'}]</td>\n",
              "    </tr>\n",
              "    <tr>\n",
              "      <th>2</th>\n",
              "      <td>3</td>\n",
              "      <td>003</td>\n",
              "      <td>Venusaur</td>\n",
              "      <td>http://www.serebii.net/pokemongo/pokemon/003.png</td>\n",
              "      <td>[Grass, Poison]</td>\n",
              "      <td>2.01 m</td>\n",
              "      <td>100.0 kg</td>\n",
              "      <td>Bulbasaur Candy</td>\n",
              "      <td>NaN</td>\n",
              "      <td>Not in Eggs</td>\n",
              "      <td>0.017</td>\n",
              "      <td>1.7</td>\n",
              "      <td>11:30</td>\n",
              "      <td>None</td>\n",
              "      <td>[Fire, Ice, Flying, Psychic]</td>\n",
              "      <td>NaN</td>\n",
              "      <td>[{'num': '001', 'name': 'Bulbasaur'}, {'num': ...</td>\n",
              "    </tr>\n",
              "    <tr>\n",
              "      <th>3</th>\n",
              "      <td>4</td>\n",
              "      <td>004</td>\n",
              "      <td>Charmander</td>\n",
              "      <td>http://www.serebii.net/pokemongo/pokemon/004.png</td>\n",
              "      <td>[Fire]</td>\n",
              "      <td>0.61 m</td>\n",
              "      <td>8.5 kg</td>\n",
              "      <td>Charmander Candy</td>\n",
              "      <td>25.0</td>\n",
              "      <td>2 km</td>\n",
              "      <td>0.253</td>\n",
              "      <td>25.3</td>\n",
              "      <td>08:45</td>\n",
              "      <td>[1.65]</td>\n",
              "      <td>[Water, Ground, Rock]</td>\n",
              "      <td>[{'num': '005', 'name': 'Charmeleon'}, {'num':...</td>\n",
              "      <td>NaN</td>\n",
              "    </tr>\n",
              "    <tr>\n",
              "      <th>4</th>\n",
              "      <td>5</td>\n",
              "      <td>005</td>\n",
              "      <td>Charmeleon</td>\n",
              "      <td>http://www.serebii.net/pokemongo/pokemon/005.png</td>\n",
              "      <td>[Fire]</td>\n",
              "      <td>1.09 m</td>\n",
              "      <td>19.0 kg</td>\n",
              "      <td>Charmander Candy</td>\n",
              "      <td>100.0</td>\n",
              "      <td>Not in Eggs</td>\n",
              "      <td>0.012</td>\n",
              "      <td>1.2</td>\n",
              "      <td>19:00</td>\n",
              "      <td>[1.79]</td>\n",
              "      <td>[Water, Ground, Rock]</td>\n",
              "      <td>[{'num': '006', 'name': 'Charizard'}]</td>\n",
              "      <td>[{'num': '004', 'name': 'Charmander'}]</td>\n",
              "    </tr>\n",
              "  </tbody>\n",
              "</table>\n",
              "</div>\n",
              "      <button class=\"colab-df-convert\" onclick=\"convertToInteractive('df-e5aaba5a-ad3d-49ff-a4c6-13002d938e6e')\"\n",
              "              title=\"Convert this dataframe to an interactive table.\"\n",
              "              style=\"display:none;\">\n",
              "        \n",
              "  <svg xmlns=\"http://www.w3.org/2000/svg\" height=\"24px\"viewBox=\"0 0 24 24\"\n",
              "       width=\"24px\">\n",
              "    <path d=\"M0 0h24v24H0V0z\" fill=\"none\"/>\n",
              "    <path d=\"M18.56 5.44l.94 2.06.94-2.06 2.06-.94-2.06-.94-.94-2.06-.94 2.06-2.06.94zm-11 1L8.5 8.5l.94-2.06 2.06-.94-2.06-.94L8.5 2.5l-.94 2.06-2.06.94zm10 10l.94 2.06.94-2.06 2.06-.94-2.06-.94-.94-2.06-.94 2.06-2.06.94z\"/><path d=\"M17.41 7.96l-1.37-1.37c-.4-.4-.92-.59-1.43-.59-.52 0-1.04.2-1.43.59L10.3 9.45l-7.72 7.72c-.78.78-.78 2.05 0 2.83L4 21.41c.39.39.9.59 1.41.59.51 0 1.02-.2 1.41-.59l7.78-7.78 2.81-2.81c.8-.78.8-2.07 0-2.86zM5.41 20L4 18.59l7.72-7.72 1.47 1.35L5.41 20z\"/>\n",
              "  </svg>\n",
              "      </button>\n",
              "      \n",
              "  <style>\n",
              "    .colab-df-container {\n",
              "      display:flex;\n",
              "      flex-wrap:wrap;\n",
              "      gap: 12px;\n",
              "    }\n",
              "\n",
              "    .colab-df-convert {\n",
              "      background-color: #E8F0FE;\n",
              "      border: none;\n",
              "      border-radius: 50%;\n",
              "      cursor: pointer;\n",
              "      display: none;\n",
              "      fill: #1967D2;\n",
              "      height: 32px;\n",
              "      padding: 0 0 0 0;\n",
              "      width: 32px;\n",
              "    }\n",
              "\n",
              "    .colab-df-convert:hover {\n",
              "      background-color: #E2EBFA;\n",
              "      box-shadow: 0px 1px 2px rgba(60, 64, 67, 0.3), 0px 1px 3px 1px rgba(60, 64, 67, 0.15);\n",
              "      fill: #174EA6;\n",
              "    }\n",
              "\n",
              "    [theme=dark] .colab-df-convert {\n",
              "      background-color: #3B4455;\n",
              "      fill: #D2E3FC;\n",
              "    }\n",
              "\n",
              "    [theme=dark] .colab-df-convert:hover {\n",
              "      background-color: #434B5C;\n",
              "      box-shadow: 0px 1px 3px 1px rgba(0, 0, 0, 0.15);\n",
              "      filter: drop-shadow(0px 1px 2px rgba(0, 0, 0, 0.3));\n",
              "      fill: #FFFFFF;\n",
              "    }\n",
              "  </style>\n",
              "\n",
              "      <script>\n",
              "        const buttonEl =\n",
              "          document.querySelector('#df-e5aaba5a-ad3d-49ff-a4c6-13002d938e6e button.colab-df-convert');\n",
              "        buttonEl.style.display =\n",
              "          google.colab.kernel.accessAllowed ? 'block' : 'none';\n",
              "\n",
              "        async function convertToInteractive(key) {\n",
              "          const element = document.querySelector('#df-e5aaba5a-ad3d-49ff-a4c6-13002d938e6e');\n",
              "          const dataTable =\n",
              "            await google.colab.kernel.invokeFunction('convertToInteractive',\n",
              "                                                     [key], {});\n",
              "          if (!dataTable) return;\n",
              "\n",
              "          const docLinkHtml = 'Like what you see? Visit the ' +\n",
              "            '<a target=\"_blank\" href=https://colab.research.google.com/notebooks/data_table.ipynb>data table notebook</a>'\n",
              "            + ' to learn more about interactive tables.';\n",
              "          element.innerHTML = '';\n",
              "          dataTable['output_type'] = 'display_data';\n",
              "          await google.colab.output.renderOutput(dataTable, element);\n",
              "          const docLink = document.createElement('div');\n",
              "          docLink.innerHTML = docLinkHtml;\n",
              "          element.appendChild(docLink);\n",
              "        }\n",
              "      </script>\n",
              "    </div>\n",
              "  </div>\n",
              "  "
            ]
          },
          "metadata": {},
          "execution_count": 15
        }
      ]
    },
    {
      "cell_type": "code",
      "source": [
        "df.dtypes"
      ],
      "metadata": {
        "colab": {
          "base_uri": "https://localhost:8080/"
        },
        "id": "18E6EZ5sKSzo",
        "outputId": "e8f77258-81c7-4846-d04f-f78c50042170"
      },
      "execution_count": null,
      "outputs": [
        {
          "output_type": "execute_result",
          "data": {
            "text/plain": [
              "id                  int64\n",
              "num                object\n",
              "name               object\n",
              "img                object\n",
              "type               object\n",
              "height             object\n",
              "weight             object\n",
              "candy              object\n",
              "candy_count       float64\n",
              "egg                object\n",
              "spawn_chance      float64\n",
              "avg_spawns        float64\n",
              "spawn_time         object\n",
              "multipliers        object\n",
              "weaknesses         object\n",
              "next_evolution     object\n",
              "prev_evolution     object\n",
              "dtype: object"
            ]
          },
          "metadata": {},
          "execution_count": 27
        }
      ]
    },
    {
      "cell_type": "code",
      "source": [
        "#C.head()\n",
        "type(df['multipliers'][0])\n",
        "type(df['multipliers'][1])\n",
        "type(df['multipliers'][2])"
      ],
      "metadata": {
        "colab": {
          "base_uri": "https://localhost:8080/"
        },
        "id": "gKp_NS1eKTDP",
        "outputId": "b0dc375b-2ebc-4a8f-e35e-1fb0b3cd28c6"
      },
      "execution_count": null,
      "outputs": [
        {
          "output_type": "execute_result",
          "data": {
            "text/plain": [
              "NoneType"
            ]
          },
          "metadata": {},
          "execution_count": 48
        }
      ]
    },
    {
      "cell_type": "code",
      "source": [
        "#pokemons with spawn rate less thanm 5%\n",
        "df['name'][df['spawn_chance']<0.05]"
      ],
      "metadata": {
        "colab": {
          "base_uri": "https://localhost:8080/"
        },
        "id": "mygAs2AuHhG2",
        "outputId": "d4b3ef41-7021-483a-d771-dd53580c4e82"
      },
      "execution_count": null,
      "outputs": [
        {
          "output_type": "execute_result",
          "data": {
            "text/plain": [
              "1         Ivysaur\n",
              "2        Venusaur\n",
              "4      Charmeleon\n",
              "5       Charizard\n",
              "7       Wartortle\n",
              "          ...    \n",
              "145       Moltres\n",
              "147     Dragonair\n",
              "148     Dragonite\n",
              "149        Mewtwo\n",
              "150           Mew\n",
              "Name: name, Length: 65, dtype: object"
            ]
          },
          "metadata": {},
          "execution_count": 22
        }
      ]
    },
    {
      "cell_type": "code",
      "source": [
        "#pokemons with less than 4 weaknesses\n",
        "mask = df.weaknesses.apply(lambda x: len(x)<4)\n",
        "df[mask][\"name\"]"
      ],
      "metadata": {
        "colab": {
          "base_uri": "https://localhost:8080/"
        },
        "id": "luJbQS3Yl1xX",
        "outputId": "edee7188-d8f4-4a73-fb78-c2a7f277889a"
      },
      "execution_count": null,
      "outputs": [
        {
          "output_type": "execute_result",
          "data": {
            "text/plain": [
              "3      Charmander\n",
              "4      Charmeleon\n",
              "5       Charizard\n",
              "6        Squirtle\n",
              "7       Wartortle\n",
              "          ...    \n",
              "145       Moltres\n",
              "146       Dratini\n",
              "147     Dragonair\n",
              "149        Mewtwo\n",
              "150           Mew\n",
              "Name: name, Length: 102, dtype: object"
            ]
          },
          "metadata": {},
          "execution_count": 21
        }
      ]
    },
    {
      "cell_type": "code",
      "source": [
        "#pokemons with no multipliers\n",
        "NoneType = type(None)\n",
        "mask = df.multipliers.apply(lambda x: type(x)==NoneType)\n",
        "df[mask][\"name\"]"
      ],
      "metadata": {
        "colab": {
          "base_uri": "https://localhost:8080/"
        },
        "id": "y7AwFi2ZFZXc",
        "outputId": "525b7932-9d5d-466c-e4d7-5f4137ffff87"
      },
      "execution_count": null,
      "outputs": [
        {
          "output_type": "execute_result",
          "data": {
            "text/plain": [
              "2        Venusaur\n",
              "5       Charizard\n",
              "8       Blastoise\n",
              "11     Butterfree\n",
              "14       Beedrill\n",
              "          ...    \n",
              "144        Zapdos\n",
              "145       Moltres\n",
              "148     Dragonite\n",
              "149        Mewtwo\n",
              "150           Mew\n",
              "Name: name, Length: 81, dtype: object"
            ]
          },
          "metadata": {},
          "execution_count": 56
        }
      ]
    },
    {
      "cell_type": "code",
      "source": [
        "type(df['prev_evolution'][1]) == list"
      ],
      "metadata": {
        "colab": {
          "base_uri": "https://localhost:8080/"
        },
        "id": "5ucF0ekqklGW",
        "outputId": "5e72b68f-dbf1-4cfc-84d7-d879b98c0239"
      },
      "execution_count": null,
      "outputs": [
        {
          "output_type": "execute_result",
          "data": {
            "text/plain": [
              "True"
            ]
          },
          "metadata": {},
          "execution_count": 23
        }
      ]
    },
    {
      "cell_type": "code",
      "source": [
        "#this function returns boolean values based on no of evolution\n",
        "#i.e if a given pokemon has sum of prev_evolution and next_evolution more than 2 : False else True\n",
        "def map_evol_count(x,y):\n",
        "  evol_cnt = 1\n",
        "  if (type(x) != list) & (type(y)!= list):\n",
        "    return True\n",
        "  elif type(x) == list:\n",
        "    if type(y) == list:\n",
        "      evol_cnt = evol_cnt + len(x) + len(y)\n",
        "    else:\n",
        "      evol_cnt += len(x)\n",
        "  elif type(y)== list:\n",
        "    evol_cnt += len(y)\n",
        "  if evol_cnt > 2:\n",
        "    return False\n",
        "  else:\n",
        "    return True\n"
      ],
      "metadata": {
        "id": "sJ7UsltQLqGj"
      },
      "execution_count": null,
      "outputs": []
    },
    {
      "cell_type": "code",
      "source": [
        "#pokemon which do not have more than 2 evolution\n",
        "mask = df.apply(lambda a:map_evol_count(x=a['prev_evolution'],y=a['next_evolution']),axis=1)\n",
        "df[mask][\"name\"]"
      ],
      "metadata": {
        "colab": {
          "base_uri": "https://localhost:8080/"
        },
        "id": "pLnEosJ5OS1n",
        "outputId": "cffca744-03a2-47a4-91a3-d99d957ccd9f"
      },
      "execution_count": null,
      "outputs": [
        {
          "output_type": "execute_result",
          "data": {
            "text/plain": [
              "18      Rattata\n",
              "19     Raticate\n",
              "20      Spearow\n",
              "21       Fearow\n",
              "22        Ekans\n",
              "         ...   \n",
              "143    Articuno\n",
              "144      Zapdos\n",
              "145     Moltres\n",
              "149      Mewtwo\n",
              "150         Mew\n",
              "Name: name, Length: 102, dtype: object"
            ]
          },
          "metadata": {},
          "execution_count": 36
        }
      ]
    },
    {
      "cell_type": "code",
      "source": [],
      "metadata": {
        "id": "XlZBIqEUEcFt"
      },
      "execution_count": null,
      "outputs": []
    },
    {
      "cell_type": "code",
      "source": [
        "df['spawn_time'].replace('N/A','00:00',inplace=True)\n",
        "df['spawn_time']"
      ],
      "metadata": {
        "colab": {
          "base_uri": "https://localhost:8080/"
        },
        "id": "Yr8wkGGNuPCc",
        "outputId": "1e1174cb-79ed-40b4-9aaa-3d3cafb0ea2c"
      },
      "execution_count": null,
      "outputs": [
        {
          "output_type": "execute_result",
          "data": {
            "text/plain": [
              "0      20:00\n",
              "1      07:00\n",
              "2      11:30\n",
              "3      08:45\n",
              "4      19:00\n",
              "       ...  \n",
              "146    06:41\n",
              "147    11:57\n",
              "148    23:38\n",
              "149    00:00\n",
              "150    00:00\n",
              "Name: spawn_time, Length: 151, dtype: object"
            ]
          },
          "metadata": {},
          "execution_count": 16
        }
      ]
    },
    {
      "cell_type": "code",
      "source": [
        "df['spawn_time'] = pd.to_timedelta(\"00:\"+df['spawn_time']).astype('timedelta64[s]').astype(int)"
      ],
      "metadata": {
        "id": "e8oDDi7UkDHs"
      },
      "execution_count": null,
      "outputs": []
    },
    {
      "cell_type": "code",
      "source": [
        "#pokemons with spawn time less than 300 sec\n",
        "df['name'][df['spawn_time'] < 300]"
      ],
      "metadata": {
        "colab": {
          "base_uri": "https://localhost:8080/"
        },
        "id": "vthtugv_tJch",
        "outputId": "32bdddd7-cd24-4b58-f6d0-19010777b1b4"
      },
      "execution_count": null,
      "outputs": [
        {
          "output_type": "execute_result",
          "data": {
            "text/plain": [
              "6       Squirtle\n",
              "8      Blastoise\n",
              "10       Metapod\n",
              "12        Weedle\n",
              "13        Kakuna\n",
              "         ...    \n",
              "143     Articuno\n",
              "144       Zapdos\n",
              "145      Moltres\n",
              "149       Mewtwo\n",
              "150          Mew\n",
              "Name: name, Length: 81, dtype: object"
            ]
          },
          "metadata": {},
          "execution_count": 18
        }
      ]
    },
    {
      "cell_type": "code",
      "source": [
        "df.columns"
      ],
      "metadata": {
        "colab": {
          "base_uri": "https://localhost:8080/"
        },
        "id": "yCZ2kKS0tu9q",
        "outputId": "8ecca0e3-f617-49f6-c70a-da55f2a1dbcf"
      },
      "execution_count": null,
      "outputs": [
        {
          "output_type": "execute_result",
          "data": {
            "text/plain": [
              "Index(['id', 'num', 'name', 'img', 'type', 'height', 'weight', 'candy',\n",
              "       'candy_count', 'egg', 'spawn_chance', 'avg_spawns', 'spawn_time',\n",
              "       'multipliers', 'weaknesses', 'next_evolution', 'prev_evolution'],\n",
              "      dtype='object')"
            ]
          },
          "metadata": {},
          "execution_count": 19
        }
      ]
    },
    {
      "cell_type": "code",
      "source": [
        "mask = df.type.apply(lambda x: len(x)>=2)\n",
        "df[mask]['name']"
      ],
      "metadata": {
        "colab": {
          "base_uri": "https://localhost:8080/"
        },
        "id": "dIpRl27gF_p_",
        "outputId": "6834944e-7f43-4903-d89e-196268436b5a"
      },
      "execution_count": null,
      "outputs": [
        {
          "output_type": "execute_result",
          "data": {
            "text/plain": [
              "0       Bulbasaur\n",
              "1         Ivysaur\n",
              "2        Venusaur\n",
              "5       Charizard\n",
              "11     Butterfree\n",
              "          ...    \n",
              "141    Aerodactyl\n",
              "143      Articuno\n",
              "144        Zapdos\n",
              "145       Moltres\n",
              "148     Dragonite\n",
              "Name: name, Length: 62, dtype: object"
            ]
          },
          "metadata": {},
          "execution_count": 22
        }
      ]
    },
    {
      "cell_type": "code",
      "source": [],
      "metadata": {
        "id": "tCChhrNwGgX7"
      },
      "execution_count": null,
      "outputs": []
    }
  ]
}