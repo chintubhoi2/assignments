{
  "nbformat": 4,
  "nbformat_minor": 0,
  "metadata": {
    "colab": {
      "provenance": []
    },
    "kernelspec": {
      "name": "python3",
      "display_name": "Python 3"
    },
    "language_info": {
      "name": "python"
    }
  },
  "cells": [
    {
      "cell_type": "code",
      "execution_count": null,
      "metadata": {
        "colab": {
          "base_uri": "https://localhost:8080/",
          "height": 250
        },
        "id": "Z1f_1olKwxzk",
        "outputId": "1b10cfdf-abd6-419b-d5c3-d802f6857bfe"
      },
      "outputs": [
        {
          "output_type": "execute_result",
          "data": {
            "text/plain": [
              "   Unnamed: 0  S.No              USERNAME  \\\n",
              "0           0     1         mikequindazzi   \n",
              "1           1     2       drgorillapaints   \n",
              "2           2     3    aitrading_official   \n",
              "3           3     4  opensourcedworkplace   \n",
              "4           4     5           crea.vision   \n",
              "\n",
              "                                             Caption  Followers  \\\n",
              "0  Who are #DataScientist and what do they do? >>...       1600   \n",
              "1  We all know where it’s going. We just have to ...        880   \n",
              "2  Alexander Barinov: 4 years as CFO in multinati...        255   \n",
              "3                                               sfad        340   \n",
              "4  Ever missed a call while your phone was chargi...        304   \n",
              "\n",
              "                                            Hashtags Time since posted  Likes  \n",
              "0  #MachineLearning #AI #DataAnalytics #DataScien...          11 hours    139  \n",
              "1   #deck .#mac #macintosh#sayhello #apple #steve...           2 hours     23  \n",
              "2  #whoiswho #aitrading #ai #aitradingteam#instat...           2 hours     25  \n",
              "3  #iot #cre#workplace #CDO #bigdata #technology#...           3 hours     49  \n",
              "4  #instamachinelearning #instabigdata#instamarke...           3 hours     30  "
            ],
            "text/html": [
              "\n",
              "  <div id=\"df-cb97eff1-6511-46c4-a171-dd662415ea45\">\n",
              "    <div class=\"colab-df-container\">\n",
              "      <div>\n",
              "<style scoped>\n",
              "    .dataframe tbody tr th:only-of-type {\n",
              "        vertical-align: middle;\n",
              "    }\n",
              "\n",
              "    .dataframe tbody tr th {\n",
              "        vertical-align: top;\n",
              "    }\n",
              "\n",
              "    .dataframe thead th {\n",
              "        text-align: right;\n",
              "    }\n",
              "</style>\n",
              "<table border=\"1\" class=\"dataframe\">\n",
              "  <thead>\n",
              "    <tr style=\"text-align: right;\">\n",
              "      <th></th>\n",
              "      <th>Unnamed: 0</th>\n",
              "      <th>S.No</th>\n",
              "      <th>USERNAME</th>\n",
              "      <th>Caption</th>\n",
              "      <th>Followers</th>\n",
              "      <th>Hashtags</th>\n",
              "      <th>Time since posted</th>\n",
              "      <th>Likes</th>\n",
              "    </tr>\n",
              "  </thead>\n",
              "  <tbody>\n",
              "    <tr>\n",
              "      <th>0</th>\n",
              "      <td>0</td>\n",
              "      <td>1</td>\n",
              "      <td>mikequindazzi</td>\n",
              "      <td>Who are #DataScientist and what do they do? &gt;&gt;...</td>\n",
              "      <td>1600</td>\n",
              "      <td>#MachineLearning #AI #DataAnalytics #DataScien...</td>\n",
              "      <td>11 hours</td>\n",
              "      <td>139</td>\n",
              "    </tr>\n",
              "    <tr>\n",
              "      <th>1</th>\n",
              "      <td>1</td>\n",
              "      <td>2</td>\n",
              "      <td>drgorillapaints</td>\n",
              "      <td>We all know where it’s going. We just have to ...</td>\n",
              "      <td>880</td>\n",
              "      <td>#deck .#mac #macintosh#sayhello #apple #steve...</td>\n",
              "      <td>2 hours</td>\n",
              "      <td>23</td>\n",
              "    </tr>\n",
              "    <tr>\n",
              "      <th>2</th>\n",
              "      <td>2</td>\n",
              "      <td>3</td>\n",
              "      <td>aitrading_official</td>\n",
              "      <td>Alexander Barinov: 4 years as CFO in multinati...</td>\n",
              "      <td>255</td>\n",
              "      <td>#whoiswho #aitrading #ai #aitradingteam#instat...</td>\n",
              "      <td>2 hours</td>\n",
              "      <td>25</td>\n",
              "    </tr>\n",
              "    <tr>\n",
              "      <th>3</th>\n",
              "      <td>3</td>\n",
              "      <td>4</td>\n",
              "      <td>opensourcedworkplace</td>\n",
              "      <td>sfad</td>\n",
              "      <td>340</td>\n",
              "      <td>#iot #cre#workplace #CDO #bigdata #technology#...</td>\n",
              "      <td>3 hours</td>\n",
              "      <td>49</td>\n",
              "    </tr>\n",
              "    <tr>\n",
              "      <th>4</th>\n",
              "      <td>4</td>\n",
              "      <td>5</td>\n",
              "      <td>crea.vision</td>\n",
              "      <td>Ever missed a call while your phone was chargi...</td>\n",
              "      <td>304</td>\n",
              "      <td>#instamachinelearning #instabigdata#instamarke...</td>\n",
              "      <td>3 hours</td>\n",
              "      <td>30</td>\n",
              "    </tr>\n",
              "  </tbody>\n",
              "</table>\n",
              "</div>\n",
              "      <button class=\"colab-df-convert\" onclick=\"convertToInteractive('df-cb97eff1-6511-46c4-a171-dd662415ea45')\"\n",
              "              title=\"Convert this dataframe to an interactive table.\"\n",
              "              style=\"display:none;\">\n",
              "        \n",
              "  <svg xmlns=\"http://www.w3.org/2000/svg\" height=\"24px\"viewBox=\"0 0 24 24\"\n",
              "       width=\"24px\">\n",
              "    <path d=\"M0 0h24v24H0V0z\" fill=\"none\"/>\n",
              "    <path d=\"M18.56 5.44l.94 2.06.94-2.06 2.06-.94-2.06-.94-.94-2.06-.94 2.06-2.06.94zm-11 1L8.5 8.5l.94-2.06 2.06-.94-2.06-.94L8.5 2.5l-.94 2.06-2.06.94zm10 10l.94 2.06.94-2.06 2.06-.94-2.06-.94-.94-2.06-.94 2.06-2.06.94z\"/><path d=\"M17.41 7.96l-1.37-1.37c-.4-.4-.92-.59-1.43-.59-.52 0-1.04.2-1.43.59L10.3 9.45l-7.72 7.72c-.78.78-.78 2.05 0 2.83L4 21.41c.39.39.9.59 1.41.59.51 0 1.02-.2 1.41-.59l7.78-7.78 2.81-2.81c.8-.78.8-2.07 0-2.86zM5.41 20L4 18.59l7.72-7.72 1.47 1.35L5.41 20z\"/>\n",
              "  </svg>\n",
              "      </button>\n",
              "      \n",
              "  <style>\n",
              "    .colab-df-container {\n",
              "      display:flex;\n",
              "      flex-wrap:wrap;\n",
              "      gap: 12px;\n",
              "    }\n",
              "\n",
              "    .colab-df-convert {\n",
              "      background-color: #E8F0FE;\n",
              "      border: none;\n",
              "      border-radius: 50%;\n",
              "      cursor: pointer;\n",
              "      display: none;\n",
              "      fill: #1967D2;\n",
              "      height: 32px;\n",
              "      padding: 0 0 0 0;\n",
              "      width: 32px;\n",
              "    }\n",
              "\n",
              "    .colab-df-convert:hover {\n",
              "      background-color: #E2EBFA;\n",
              "      box-shadow: 0px 1px 2px rgba(60, 64, 67, 0.3), 0px 1px 3px 1px rgba(60, 64, 67, 0.15);\n",
              "      fill: #174EA6;\n",
              "    }\n",
              "\n",
              "    [theme=dark] .colab-df-convert {\n",
              "      background-color: #3B4455;\n",
              "      fill: #D2E3FC;\n",
              "    }\n",
              "\n",
              "    [theme=dark] .colab-df-convert:hover {\n",
              "      background-color: #434B5C;\n",
              "      box-shadow: 0px 1px 3px 1px rgba(0, 0, 0, 0.15);\n",
              "      filter: drop-shadow(0px 1px 2px rgba(0, 0, 0, 0.3));\n",
              "      fill: #FFFFFF;\n",
              "    }\n",
              "  </style>\n",
              "\n",
              "      <script>\n",
              "        const buttonEl =\n",
              "          document.querySelector('#df-cb97eff1-6511-46c4-a171-dd662415ea45 button.colab-df-convert');\n",
              "        buttonEl.style.display =\n",
              "          google.colab.kernel.accessAllowed ? 'block' : 'none';\n",
              "\n",
              "        async function convertToInteractive(key) {\n",
              "          const element = document.querySelector('#df-cb97eff1-6511-46c4-a171-dd662415ea45');\n",
              "          const dataTable =\n",
              "            await google.colab.kernel.invokeFunction('convertToInteractive',\n",
              "                                                     [key], {});\n",
              "          if (!dataTable) return;\n",
              "\n",
              "          const docLinkHtml = 'Like what you see? Visit the ' +\n",
              "            '<a target=\"_blank\" href=https://colab.research.google.com/notebooks/data_table.ipynb>data table notebook</a>'\n",
              "            + ' to learn more about interactive tables.';\n",
              "          element.innerHTML = '';\n",
              "          dataTable['output_type'] = 'display_data';\n",
              "          await google.colab.output.renderOutput(dataTable, element);\n",
              "          const docLink = document.createElement('div');\n",
              "          docLink.innerHTML = docLinkHtml;\n",
              "          element.appendChild(docLink);\n",
              "        }\n",
              "      </script>\n",
              "    </div>\n",
              "  </div>\n",
              "  "
            ]
          },
          "metadata": {},
          "execution_count": 1
        }
      ],
      "source": [
        "import pandas as pd\n",
        "df = pd.read_csv(\"/content/instagram_reach.csv\")\n",
        "df.head()"
      ]
    },
    {
      "cell_type": "code",
      "source": [],
      "metadata": {
        "id": "ReF8B6pFhI06"
      },
      "execution_count": null,
      "outputs": []
    },
    {
      "cell_type": "code",
      "source": [
        "df.shape"
      ],
      "metadata": {
        "colab": {
          "base_uri": "https://localhost:8080/"
        },
        "id": "SSB-HkcixX_a",
        "outputId": "3ccda0b9-7d83-4045-f682-b2c5088e7f77"
      },
      "execution_count": null,
      "outputs": [
        {
          "output_type": "execute_result",
          "data": {
            "text/plain": [
              "(100, 8)"
            ]
          },
          "metadata": {},
          "execution_count": 2
        }
      ]
    },
    {
      "cell_type": "code",
      "source": [
        "df['Time since posted'] = df['Time since posted'].str.replace(' hours',\"\")"
      ],
      "metadata": {
        "id": "8aqeE92o0vvU"
      },
      "execution_count": null,
      "outputs": []
    },
    {
      "cell_type": "code",
      "source": [
        "df['Time since posted'] = df['Time since posted'].astype(int)"
      ],
      "metadata": {
        "id": "bbTNJDFK08OF"
      },
      "execution_count": null,
      "outputs": []
    },
    {
      "cell_type": "code",
      "source": [
        "import numpy as np\n",
        "x = np.array(df[['Followers']])\n",
        "y = np.array(df[['Time since posted','Likes']])"
      ],
      "metadata": {
        "id": "Tu4Kc44c1AkS"
      },
      "execution_count": null,
      "outputs": []
    },
    {
      "cell_type": "code",
      "source": [
        "# linear regression for multioutput regression\n",
        "from sklearn.datasets import make_regression\n",
        "from sklearn.linear_model import LinearRegression\n",
        "\n",
        "model = LinearRegression()\n",
        "# fit model\n",
        "model.fit(x, y)\n",
        "# make a prediction\n",
        "yhat = model.predict([[340]])\n",
        "# summarize prediction\n",
        "print(yhat[0])"
      ],
      "metadata": {
        "colab": {
          "base_uri": "https://localhost:8080/"
        },
        "id": "4TG7ZHfOxn3z",
        "outputId": "35f45485-d025-44f5-d1a7-cf32dbed2690"
      },
      "execution_count": null,
      "outputs": [
        {
          "output_type": "stream",
          "name": "stdout",
          "text": [
            "[ 2.93737351 37.49034433]\n"
          ]
        }
      ]
    },
    {
      "cell_type": "code",
      "source": [],
      "metadata": {
        "id": "KwQQAxzdzG3S"
      },
      "execution_count": null,
      "outputs": []
    }
  ]
}